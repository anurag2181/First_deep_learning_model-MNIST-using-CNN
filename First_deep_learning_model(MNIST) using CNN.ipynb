{
 "cells": [
  {
   "cell_type": "code",
   "execution_count": 1,
   "id": "c8fc6566",
   "metadata": {},
   "outputs": [],
   "source": [
    "import numpy as np\n",
    "import tensorflow as tf\n",
    "import tensorflow_datasets as tfds"
   ]
  },
  {
   "cell_type": "code",
   "execution_count": 2,
   "id": "43ed8692",
   "metadata": {},
   "outputs": [
    {
     "name": "stderr",
     "output_type": "stream",
     "text": [
      "WARNING:absl:Warning: Setting shuffle_files=True because split=TRAIN and shuffle_files=None. This behavior will be deprecated on 2019-08-06, at which point shuffle_files=False will be the default for all splits.\n"
     ]
    }
   ],
   "source": [
    "mnist_dataset,mnis_info = tfds.load(name='mnist',with_info = True,as_supervised = True)"
   ]
  },
  {
   "cell_type": "code",
   "execution_count": 3,
   "id": "cd4be935",
   "metadata": {},
   "outputs": [],
   "source": [
    "mnist_train,mnist_test = mnist_dataset['train'],mnist_dataset['test']"
   ]
  },
  {
   "cell_type": "code",
   "execution_count": 5,
   "id": "d3131039",
   "metadata": {},
   "outputs": [],
   "source": [
    "validation_samples = 0.1 * mnis_info.splits['train'].num_examples"
   ]
  },
  {
   "cell_type": "code",
   "execution_count": 6,
   "id": "4159d0d4",
   "metadata": {},
   "outputs": [],
   "source": [
    "validation_samples = tf.cast(validation_samples,tf.int64)"
   ]
  },
  {
   "cell_type": "code",
   "execution_count": 7,
   "id": "a207747c",
   "metadata": {},
   "outputs": [],
   "source": [
    "test_samples = mnis_info.splits['test'].num_examples"
   ]
  },
  {
   "cell_type": "code",
   "execution_count": 9,
   "id": "a1de311d",
   "metadata": {},
   "outputs": [],
   "source": [
    "def scale(image,label):\n",
    "    image = tf.cast(image,tf.float32)\n",
    "    image/=255.\n",
    "    return image,label"
   ]
  },
  {
   "cell_type": "code",
   "execution_count": 11,
   "id": "3b96bfb9",
   "metadata": {},
   "outputs": [],
   "source": [
    "scaled_train_and_validation_dataset = mnist_train.map(scale)\n",
    "test_data = mnist_test.map(scale)"
   ]
  },
  {
   "cell_type": "code",
   "execution_count": 13,
   "id": "2bdc7382",
   "metadata": {},
   "outputs": [],
   "source": [
    "buffer_size=10000\n",
    "shuffled_train_and_validation_data = scaled_train_and_validation_dataset.shuffle(buffer_size)\n",
    "validation_data = shuffled_train_and_validation_data.take(validation_samples)\n",
    "train_data = shuffled_train_and_validation_data.skip(validation_samples)\n",
    "\n",
    "batch_size = 100\n",
    "train_data = train_data.batch(batch_size)\n",
    "validation_data = validation_data.batch(validation_samples)\n",
    "test_data = test_data.batch(test_samples)\n",
    "validation_inputs,validation_targets = next(iter(validation_data))\n"
   ]
  },
  {
   "cell_type": "code",
   "execution_count": 43,
   "id": "3ddff12a",
   "metadata": {},
   "outputs": [],
   "source": [
    "input_size= 784\n",
    "output_size = 10\n",
    "hidden_layer_size = 150"
   ]
  },
  {
   "cell_type": "code",
   "execution_count": 44,
   "id": "d6e24e6c",
   "metadata": {},
   "outputs": [],
   "source": [
    "model = tf.keras.Sequential([\n",
    "                            tf.keras.layers.Flatten(input_shape=(28,28,1)),\n",
    "                            tf.keras.layers.Dense(hidden_layer_size,activation= 'relu'),\n",
    "                            tf.keras.layers.Dense(hidden_layer_size,activation= 'relu'),\n",
    "                            tf.keras.layers.Dense(hidden_layer_size,activation= 'relu'),\n",
    "                            tf.keras.layers.Dense(output_size,activation= 'softmax'),\n",
    "                           ])"
   ]
  },
  {
   "cell_type": "code",
   "execution_count": 45,
   "id": "11efae64",
   "metadata": {},
   "outputs": [],
   "source": [
    "model.compile(optimizer = 'adam',loss = 'sparse_categorical_crossentropy',metrics = ['accuracy'])"
   ]
  },
  {
   "cell_type": "code",
   "execution_count": 46,
   "id": "e556e2a7",
   "metadata": {},
   "outputs": [
    {
     "name": "stdout",
     "output_type": "stream",
     "text": [
      "Epoch 1/5\n",
      "540/540 - 3s - loss: 0.2861 - accuracy: 0.9170 - val_loss: 0.1377 - val_accuracy: 0.9590\n",
      "Epoch 2/5\n",
      "540/540 - 3s - loss: 0.1119 - accuracy: 0.9654 - val_loss: 0.1059 - val_accuracy: 0.9672\n",
      "Epoch 3/5\n",
      "540/540 - 3s - loss: 0.0766 - accuracy: 0.9765 - val_loss: 0.0783 - val_accuracy: 0.9760\n",
      "Epoch 4/5\n",
      "540/540 - 3s - loss: 0.0591 - accuracy: 0.9813 - val_loss: 0.0808 - val_accuracy: 0.9745\n",
      "Epoch 5/5\n",
      "540/540 - 3s - loss: 0.0472 - accuracy: 0.9851 - val_loss: 0.0474 - val_accuracy: 0.9848\n"
     ]
    },
    {
     "data": {
      "text/plain": [
       "<tensorflow.python.keras.callbacks.History at 0x2960e9108b0>"
      ]
     },
     "execution_count": 46,
     "metadata": {},
     "output_type": "execute_result"
    }
   ],
   "source": [
    "num_epochs = 5\n",
    "model.fit(train_data,epochs = num_epochs,validation_data = (validation_inputs,validation_targets),verbose=2)"
   ]
  },
  {
   "cell_type": "code",
   "execution_count": 47,
   "id": "1c2d83b8",
   "metadata": {},
   "outputs": [
    {
     "name": "stdout",
     "output_type": "stream",
     "text": [
      "1/1 [==============================] - 1s 694ms/step - loss: 0.0762 - accuracy: 0.9768\n"
     ]
    }
   ],
   "source": [
    "test_loss,test_accuarcy = model.evaluate(test_data)"
   ]
  },
  {
   "cell_type": "code",
   "execution_count": 50,
   "id": "1064fe24",
   "metadata": {},
   "outputs": [
    {
     "name": "stdout",
     "output_type": "stream",
     "text": [
      "Loss = 0.0762 and accuracy : 97.68 % \n"
     ]
    }
   ],
   "source": [
    "print('Loss = 0.0762 and accuracy : 97.68 % ')"
   ]
  },
  {
   "cell_type": "code",
   "execution_count": null,
   "id": "3dd2ba04",
   "metadata": {},
   "outputs": [],
   "source": []
  }
 ],
 "metadata": {
  "kernelspec": {
   "display_name": "Python 3",
   "language": "python",
   "name": "python3"
  },
  "language_info": {
   "codemirror_mode": {
    "name": "ipython",
    "version": 3
   },
   "file_extension": ".py",
   "mimetype": "text/x-python",
   "name": "python",
   "nbconvert_exporter": "python",
   "pygments_lexer": "ipython3",
   "version": "3.8.8"
  }
 },
 "nbformat": 4,
 "nbformat_minor": 5
}
